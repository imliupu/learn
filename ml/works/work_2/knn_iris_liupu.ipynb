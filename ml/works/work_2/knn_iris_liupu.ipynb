{
 "cells": [
  {
   "cell_type": "code",
   "execution_count": 1,
   "metadata": {},
   "outputs": [],
   "source": [
    "# Writen by liupu -- 2019.4.10\n",
    "# Need to install numpy, sklearn\n",
    "import numpy as np\n",
    "from sklearn.datasets import load_iris"
   ]
  },
  {
   "cell_type": "code",
   "execution_count": 2,
   "metadata": {},
   "outputs": [],
   "source": [
    "iris=load_iris()\n",
    "data=iris.data      #data_x\n",
    "target=iris.target  #data_y\n",
    "labels=iris.feature_names #feature_name"
   ]
  },
  {
   "cell_type": "code",
   "execution_count": 3,
   "metadata": {},
   "outputs": [
    {
     "name": "stdout",
     "output_type": "stream",
     "text": [
      "['sepal length (cm)', 'sepal width (cm)', 'petal length (cm)', 'petal width (cm)']\n",
      "(150, 4)\n",
      "[[5.1 3.5 1.4 0.2]\n",
      " [4.9 3.  1.4 0.2]\n",
      " [4.7 3.2 1.3 0.2]\n",
      " [4.6 3.1 1.5 0.2]\n",
      " [5.  3.6 1.4 0.2]\n",
      " [5.4 3.9 1.7 0.4]\n",
      " [4.6 3.4 1.4 0.3]\n",
      " [5.  3.4 1.5 0.2]\n",
      " [4.4 2.9 1.4 0.2]\n",
      " [4.9 3.1 1.5 0.1]]\n",
      "(150,)\n",
      "[0 0 0 0 0 0 0 0 0 0 0 0 0 0 0 0 0 0 0 0 0 0 0 0 0 0 0 0 0 0 0 0 0 0 0 0 0\n",
      " 0 0 0 0 0 0 0 0 0 0 0 0 0 1 1 1 1 1 1 1 1 1 1 1 1 1 1 1 1 1 1 1 1 1 1 1 1\n",
      " 1 1 1 1 1 1 1 1 1 1 1 1 1 1 1 1 1 1 1 1 1 1 1 1 1 1 2 2 2 2 2 2 2 2 2 2 2\n",
      " 2 2 2 2 2 2 2 2 2 2 2 2 2 2 2 2 2 2 2 2 2 2 2 2 2 2 2 2 2 2 2 2 2 2 2 2 2\n",
      " 2 2]\n"
     ]
    }
   ],
   "source": [
    "print(labels)\n",
    "print(data.shape)\n",
    "print(data[:10])\n",
    "print(target.shape)\n",
    "print(target)"
   ]
  },
  {
   "cell_type": "code",
   "execution_count": 4,
   "metadata": {},
   "outputs": [],
   "source": [
    "train_y = np.append(np.append(target[:40], target[50:90]), target[100:140])\n",
    "train_x = np.append(np.append(data[:40,], data[50:90,], axis=0), data[100:140,], axis=0)\n",
    "test_y = np.append(np.append(target[40:50], target[90:100]), target[140:150])\n",
    "test_x = np.append(np.append(data[40:50], data[90:100], axis=0), data[140:150], axis=0)"
   ]
  },
  {
   "cell_type": "code",
   "execution_count": 5,
   "metadata": {},
   "outputs": [
    {
     "name": "stdout",
     "output_type": "stream",
     "text": [
      "(120, 4) (120,)\n",
      "(30, 4) (30,)\n",
      "[0 0 0 0 0 0 0 0 0 0 1 1 1 1 1 1 1 1 1 1 2 2 2 2 2 2 2 2 2 2]\n"
     ]
    }
   ],
   "source": [
    "print(train_x.shape, train_y.shape)\n",
    "print(test_x.shape, test_y.shape)\n",
    "print(test_y)"
   ]
  },
  {
   "cell_type": "code",
   "execution_count": 6,
   "metadata": {},
   "outputs": [],
   "source": [
    "class Knn():\n",
    "    def __init__(self, database, k=5):\n",
    "        self._database = database\n",
    "        self._x = database[0]\n",
    "        self._y = database[1]\n",
    "        self._xshape = database[0].shape\n",
    "        self._yshape = database[1].shape\n",
    "        self._k = k\n",
    "    \n",
    "    def distance(self, x1, x2):\n",
    "        x1 = x1.reshape(-1)             #flatten x1\n",
    "        x2 = x2.reshape(-1)             #flatten x2\n",
    "        return np.sum((x2-x1)**2)              #return the L2 distance between x1 and x2\n",
    "    \n",
    "    def predict(self, x):\n",
    "        assert self._xshape[1:] == x.shape[1:]\n",
    "        predict_y = np.zeros(x.shape[0])\n",
    "        for j, item in enumerate(x):\n",
    "            dist = np.zeros([self._yshape[0], 2])       #a row present [distance, y]\n",
    "            vote = np.zeros(self._yshape[0])\n",
    "            for i, xi in enumerate(self._x):\n",
    "                dist[i] = [self.distance(xi, item), self._y[i]]\n",
    "            dist = dist[dist[:,0].argsort()]         #sort by col_1(col of distance)\n",
    "            for i in range(self._k):\n",
    "                vote[int(dist[i][1])] += 1\n",
    "            predict_y[j] = np.argmax(vote)          #get the index of maximum of vote\n",
    "        return predict_y.astype(int)            "
   ]
  },
  {
   "cell_type": "code",
   "execution_count": 7,
   "metadata": {},
   "outputs": [],
   "source": [
    "knn = Knn((train_x,train_y), k=3)\n",
    "y = knn.predict(test_x)"
   ]
  },
  {
   "cell_type": "code",
   "execution_count": 8,
   "metadata": {
    "scrolled": true
   },
   "outputs": [
    {
     "name": "stdout",
     "output_type": "stream",
     "text": [
      "[0 0 0 0 0 0 0 0 0 0 1 1 1 1 1 1 1 1 1 1 2 2 2 2 2 2 2 2 2 2]\n",
      "[0 0 0 0 0 0 0 0 0 0 1 1 1 1 1 1 1 1 1 1 2 2 2 2 2 2 2 2 2 2]\n"
     ]
    }
   ],
   "source": [
    "print(y)\n",
    "print(test_y)"
   ]
  }
 ],
 "metadata": {
  "kernelspec": {
   "display_name": "Python 3",
   "language": "python",
   "name": "python3"
  },
  "language_info": {
   "codemirror_mode": {
    "name": "ipython",
    "version": 3
   },
   "file_extension": ".py",
   "mimetype": "text/x-python",
   "name": "python",
   "nbconvert_exporter": "python",
   "pygments_lexer": "ipython3",
   "version": "3.6.6"
  }
 },
 "nbformat": 4,
 "nbformat_minor": 2
}
