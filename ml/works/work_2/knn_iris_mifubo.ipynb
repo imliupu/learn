#Writen by mifubo -- 2019.4.11
import numpy as np
from sklearn.datasets import load_iris


#set data
iris = load_iris()
data = iris.data
#iris data,target(0,1,2 on behalf of the class of flowers)
target = iris.target
labels = iris.feature_names

#set train_group and knn_text_group
tg_data = data[:140]
tg_target = target[:140]
kg_data = data[140:]
kg_target = target[140:]

class knn():
    def __init__(self, database,k=10):
        self._database = database
        self._data = database[0]
        self._target = database[1]
        self._dshape = database[0].shape
        self._tshape = database[1].shape
        self._k = k

#calculation of distance
    def Euclidean_distance(self,x,y):
        x = x.reshape(-1)
        y = x.reshape(-1)
        return np.sum((x-y)**2)
#return & Calculate the space distance

    def predict(self,kg_data):
#set a list to save predict target
        k_predict = np.zeros(kg_data.shape[0])
        for i,item in enumerate(kg_data):
            dist = np.zeros([self._dshape[0],2])
            count = np.zeros(self._dshape[0])
#dist save the distance between textpoint and trainponin
#count save the times of each point appeared
            for j,x in enumerate(self._data):
                dist[j] = [self.Euclidean_distance(x,item),self._target[j]]
#                print(dist[j])
            dist = dist[dist[:,0].argsort()]
#sort ponit by distance
            for u in range(self._k):
                count[int(dist[u][1])]+=1
            k_predict[i] = np.argmax(count)
        return k_predict.astype(int)

knn = knn((tg_data,tg_target),k=3)
y = knn.predict(kg_data)

print(y)
print(kg_target)
