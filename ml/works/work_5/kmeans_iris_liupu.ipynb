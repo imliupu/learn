{
 "cells": [
  {
   "cell_type": "code",
   "execution_count": 1,
   "metadata": {},
   "outputs": [],
   "source": [
    "from sklearn import datasets\n",
    "import matplotlib.pyplot as plt \n",
    "import numpy as np"
   ]
  },
  {
   "cell_type": "code",
   "execution_count": 2,
   "metadata": {},
   "outputs": [
    {
     "data": {
      "image/png": "[encoded data removed]",
      "text/plain": [
       "<Figure size 432x288 with 1 Axes>"
      ]
     },
     "metadata": {
      "needs_background": "light"
     },
     "output_type": "display_data"
    }
   ],
   "source": [
    "iris = datasets.load_iris()\n",
    "X, y = iris.data, iris.target\n",
    "data = X[:,[1,3]] # 为了便于可视化，只取两个维度\n",
    "plt.scatter(data[:,0],data[:,1]);"
   ]
  },
  {
   "cell_type": "code",
   "execution_count": 3,
   "metadata": {},
   "outputs": [],
   "source": [
    "def kmeans(data,k=2):\n",
    "    def _distance(p1,p2):\n",
    "        \"\"\"\n",
    "        Return Eclud distance between two points.\n",
    "        p1 = np.array([0,0]), p2 = np.array([1,1]) => 1.414\n",
    "        \"\"\"\n",
    "        tmp = np.sum((p1-p2)**2)\n",
    "        return np.sqrt(tmp)\n",
    "    def _rand_center(data,k):\n",
    "        \"\"\"Generate k center within the range of data set.\"\"\"\n",
    "        n = data.shape[1] # features\n",
    "        centroids = np.zeros((k,n)) # init with (0,0)....\n",
    "        for i in range(n):\n",
    "            dmin, dmax = np.min(data[:,i]), np.max(data[:,i])\n",
    "            centroids[:,i] = dmin + (dmax - dmin) * np.random.rand(k)\n",
    "        return centroids\n",
    "    \n",
    "    def _converged(centroids1, centroids2):\n",
    "        \n",
    "        # if centroids not changed, we say 'converged'\n",
    "         set1 = set([tuple(c) for c in centroids1])\n",
    "         set2 = set([tuple(c) for c in centroids2])\n",
    "         return (set1 == set2)\n",
    "        \n",
    "    \n",
    "    n = data.shape[0] # number of entries\n",
    "    centroids = _rand_center(data,k)\n",
    "    label = np.zeros(n,dtype=np.int) # track the nearest centroid\n",
    "    assement = np.zeros(n) # for the assement of our model\n",
    "    converged = False\n",
    "    \n",
    "    while not converged:\n",
    "        old_centroids = np.copy(centroids)\n",
    "        for i in range(n):\n",
    "            # determine the nearest centroid and track it with label\n",
    "            min_dist, min_index = np.inf, -1\n",
    "            for j in range(k):\n",
    "                dist = _distance(data[i],centroids[j])\n",
    "                if dist < min_dist:\n",
    "                    min_dist, min_index = dist, j\n",
    "                    label[i] = j\n",
    "            assement[i] = _distance(data[i],centroids[label[i]])**2\n",
    "        \n",
    "        # update centroid\n",
    "        for m in range(k):\n",
    "            centroids[m] = np.mean(data[label==m],axis=0)\n",
    "        converged = _converged(old_centroids,centroids)    \n",
    "    return centroids, label, np.sum(assement)"
   ]
  },
  {
   "cell_type": "code",
   "execution_count": 4,
   "metadata": {},
   "outputs": [],
   "source": [
    "best_assement = np.inf\n",
    "best_centroids = None\n",
    "best_label = None\n",
    "\n",
    "#由于具有随机性，跑10次\n",
    "for i in range(10):\n",
    "    centroids, label, assement = kmeans(data,2)\n",
    "    if assement < best_assement:\n",
    "        best_assement = assement\n",
    "        best_centroids = centroids\n",
    "        best_label = label\n",
    "\n",
    "data0 = data[best_label==0]\n",
    "data1 = data[best_label==1]"
   ]
  },
  {
   "cell_type": "code",
   "execution_count": 5,
   "metadata": {},
   "outputs": [
    {
     "data": {
      "image/png": "[encoded data removed]",
      "text/plain": [
       "<Figure size 864x360 with 2 Axes>"
      ]
     },
     "metadata": {
      "needs_background": "light"
     },
     "output_type": "display_data"
    }
   ],
   "source": [
    "fig, (ax1,ax2) = plt.subplots(1,2,figsize=(12,5))\n",
    "ax1.scatter(data[:,0],data[:,1],c='c',s=30,marker='o')\n",
    "ax2.scatter(data0[:,0],data0[:,1],c='r')\n",
    "ax2.scatter(data1[:,0],data1[:,1],c='c')\n",
    "ax2.scatter(centroids[:,0],centroids[:,1],c='b',s=120,marker='o')\n",
    "plt.show()"
   ]
  },
  {
   "cell_type": "code",
   "execution_count": null,
   "metadata": {},
   "outputs": [],
   "source": []
  }
 ],
 "metadata": {
  "kernelspec": {
   "display_name": "Python 3",
   "language": "python",
   "name": "python3"
  },
  "language_info": {
   "codemirror_mode": {
    "name": "ipython",
    "version": 3
   },
   "file_extension": ".py",
   "mimetype": "text/x-python",
   "name": "python",
   "nbconvert_exporter": "python",
   "pygments_lexer": "ipython3",
   "version": "3.6.6"
  }
 },
 "nbformat": 4,
 "nbformat_minor": 2
}
