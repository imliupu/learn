{
 "cells": [
  {
   "cell_type": "code",
   "execution_count": 1,
   "metadata": {},
   "outputs": [],
   "source": [
    "# Writen by liupu -- 2019.4.10\n",
    "# Need to install numpy, sklearn\n",
    "import numpy as np\n",
    "from sklearn.datasets import load_iris"
   ]
  },
  {
   "cell_type": "code",
   "execution_count": 2,
   "metadata": {},
   "outputs": [],
   "source": [
    "iris=load_iris()\n",
    "data=iris.data      #data_x\n",
    "target=iris.target  #data_y\n",
    "labels=iris.feature_names #feature_name"
   ]
  },
  {
   "cell_type": "code",
   "execution_count": 3,
   "metadata": {},
   "outputs": [
    {
     "name": "stdout",
     "output_type": "stream",
     "text": [
      "['sepal length (cm)', 'sepal width (cm)', 'petal length (cm)', 'petal width (cm)']\n",
      "(150, 4)\n",
      "[[5.1 3.5 1.4 0.2]\n",
      " [4.9 3.  1.4 0.2]\n",
      " [4.7 3.2 1.3 0.2]\n",
      " [4.6 3.1 1.5 0.2]\n",
      " [5.  3.6 1.4 0.2]\n",
      " [5.4 3.9 1.7 0.4]\n",
      " [4.6 3.4 1.4 0.3]\n",
      " [5.  3.4 1.5 0.2]\n",
      " [4.4 2.9 1.4 0.2]\n",
      " [4.9 3.1 1.5 0.1]]\n",
      "(150,)\n",
      "[0 0 0 0 0 0 0 0 0 0 0 0 0 0 0 0 0 0 0 0 0 0 0 0 0 0 0 0 0 0 0 0 0 0 0 0 0\n",
      " 0 0 0 0 0 0 0 0 0 0 0 0 0 1 1 1 1 1 1 1 1 1 1 1 1 1 1 1 1 1 1 1 1 1 1 1 1\n",
      " 1 1 1 1 1 1 1 1 1 1 1 1 1 1 1 1 1 1 1 1 1 1 1 1 1 1 2 2 2 2 2 2 2 2 2 2 2\n",
      " 2 2 2 2 2 2 2 2 2 2 2 2 2 2 2 2 2 2 2 2 2 2 2 2 2 2 2 2 2 2 2 2 2 2 2 2 2\n",
      " 2 2]\n"
     ]
    }
   ],
   "source": [
    "print(labels)\n",
    "print(data.shape)\n",
    "print(data[:10])\n",
    "print(target.shape)\n",
    "print(target)"
   ]
  },
  {
   "cell_type": "code",
   "execution_count": 4,
   "metadata": {},
   "outputs": [],
   "source": [
    "train_y = np.append(np.append(target[:40], target[50:90]), target[100:140])\n",
    "train_x = np.append(np.append(data[:40,], data[50:90,], axis=0), data[100:140,], axis=0)\n",
    "test_y = np.append(np.append(target[40:50], target[90:100]), target[140:150])\n",
    "test_x = np.append(np.append(data[40:50], data[90:100], axis=0), data[140:150], axis=0)"
   ]
  },
  {
   "cell_type": "code",
   "execution_count": 5,
   "metadata": {},
   "outputs": [
    {
     "name": "stdout",
     "output_type": "stream",
     "text": [
      "(120, 4) (120,)\n",
      "(30, 4) (30,)\n",
      "[0 0 0 0 0 0 0 0 0 0 1 1 1 1 1 1 1 1 1 1 2 2 2 2 2 2 2 2 2 2]\n"
     ]
    }
   ],
   "source": [
    "print(train_x.shape, train_y.shape)\n",
    "print(test_x.shape, test_y.shape)\n",
    "print(test_y)"
   ]
  },
  {
   "cell_type": "code",
   "execution_count": 6,
   "metadata": {},
   "outputs": [],
   "source": [
    "class Linear():\n",
    "    def __init__(self):\n",
    "        self._w = None                 # _w = [ feature_num, bias ]\n",
    "        self._x = None\n",
    "        self._y = None\n",
    "        self._feature_num = 0\n",
    "    \n",
    "    def fit(self, x, y, optimizer=\"square\", log=True):\n",
    "        assert len(x.shape) == 2\n",
    "        assert len(y.shape) == 1\n",
    "        assert x.shape[0] == y.shape[0]\n",
    "        self._feature_num = x.shape[1]\n",
    "        self._w = np.random.normal(0.1, 1, size=self._feature_num+1)    # _w = [ feature_num, bias ], ^y = Xw\n",
    "        self._x = np.append(x, np.tile(1, [x.shape[0],1]), axis=1)\n",
    "        self._y = y\n",
    "        if optimizer == \"square\":\n",
    "            self._w = np.matmul(np.linalg.pinv(self._x), self._y)\n",
    "        elif optimizer == \"sgd\":\n",
    "            pass\n",
    "    \n",
    "    def predict(self, x):\n",
    "        assert len(x.shape) == 2\n",
    "        assert self._feature_num == x.shape[1]\n",
    "        expand_x = np.append(x, np.tile(1, [x.shape[0],1]), axis=1)\n",
    "        return np.matmul(expand_x, self._w)          "
   ]
  },
  {
   "cell_type": "code",
   "execution_count": 7,
   "metadata": {},
   "outputs": [],
   "source": [
    "linear = Linear()\n",
    "linear.fit(x=train_x, y=train_y)\n",
    "y = linear.predict(test_x)"
   ]
  },
  {
   "cell_type": "code",
   "execution_count": 8,
   "metadata": {},
   "outputs": [
    {
     "name": "stdout",
     "output_type": "stream",
     "text": [
      "[-3.73771047e-02  4.22358356e-02  9.36225264e-04  2.00636085e-01\n",
      "  1.68284983e-01  2.30971444e-02 -1.89072479e-02  3.03078180e-04\n",
      " -7.60124240e-02 -5.85582693e-02  1.23621023e+00  1.30518989e+00\n",
      "  1.07841827e+00  8.95443169e-01  1.21486118e+00  1.14778073e+00\n",
      "  1.19916320e+00  1.15480517e+00  8.45015834e-01  1.17120794e+00\n",
      "  2.01055593e+00  1.78800120e+00  1.74728796e+00  2.03014881e+00\n",
      "  2.08877063e+00  1.84622940e+00  1.64701942e+00  1.72291644e+00\n",
      "  1.97389168e+00  1.68020750e+00]\n",
      "[0 0 0 0 0 0 0 0 0 0 1 1 1 1 1 1 1 1 1 1 2 2 2 2 2 2 2 2 2 2]\n",
      "[0 0 0 0 0 0 0 0 0 0 1 1 1 1 1 1 1 1 1 1 2 2 2 2 2 2 2 2 2 2]\n"
     ]
    }
   ],
   "source": [
    "print(y)\n",
    "print((y+0.5).astype(int))              # 0.0-0.49 ~= 0, 0.50-0.99 ~= 1\n",
    "print(test_y)"
   ]
  },
  {
   "cell_type": "code",
   "execution_count": null,
   "metadata": {},
   "outputs": [],
   "source": []
  }
 ],
 "metadata": {
  "kernelspec": {
   "display_name": "Python 3",
   "language": "python",
   "name": "python3"
  },
  "language_info": {
   "codemirror_mode": {
    "name": "ipython",
    "version": 3
   },
   "file_extension": ".py",
   "mimetype": "text/x-python",
   "name": "python",
   "nbconvert_exporter": "python",
   "pygments_lexer": "ipython3",
   "version": "3.6.6"
  }
 },
 "nbformat": 4,
 "nbformat_minor": 2
}
